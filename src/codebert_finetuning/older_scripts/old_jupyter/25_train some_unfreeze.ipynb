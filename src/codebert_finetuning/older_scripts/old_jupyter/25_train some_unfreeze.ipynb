{
 "cells": [
  {
   "cell_type": "code",
   "execution_count": null,
   "metadata": {},
   "outputs": [
    {
     "name": "stdout",
     "output_type": "stream",
     "text": [
      "Using device: cuda\n"
     ]
    }
   ],
   "source": [
    "import os\n",
    "import logging\n",
    "import torch\n",
    "import torch.nn as nn\n",
    "import pandas as pd\n",
    "import matplotlib.pyplot as plt\n",
    "\n",
    "from datasets import load_dataset\n",
    "from sklearn.metrics import precision_recall_fscore_support, accuracy_score\n",
    "from transformers import (\n",
    "    RobertaTokenizerFast,\n",
    "    RobertaModel,\n",
    "    Trainer,\n",
    "    TrainingArguments,\n",
    "    DataCollatorWithPadding,\n",
    "    PreTrainedModel,\n",
    "    RobertaConfig\n",
    ")\n",
    "from transformers.modeling_outputs import SequenceClassifierOutput\n",
    "\n",
    "logging.basicConfig(level=logging.INFO, format=\"%(asctime)s - %(levelname)s - %(message)s\")\n",
    "logger = logging.getLogger(\"bug_localiser\")\n",
    "\n",
    "\n",
    "os.environ[\"TOKENIZERS_PARALLELISM\"] = \"false\"\n",
    "device = torch.device(\"cuda\" if torch.cuda.is_available() else \"cpu\")\n",
    "print(f\"Using device: {device}\")\n"
   ]
  },
  {
   "cell_type": "code",
   "execution_count": null,
   "metadata": {},
   "outputs": [],
   "source": [
    "data_path = \"../../Data/SSTUBS_ENHANCED_23MAR\"\n",
    "dataset = load_dataset(\"json\", data_files={\n",
    "    \"train\": f\"{data_path}/train.json\",\n",
    "    \"validation\": f\"{data_path}/val.json\",\n",
    "    \"test\": f\"{data_path}/test.json\"\n",
    "})\n"
   ]
  },
  {
   "cell_type": "code",
   "execution_count": null,
   "metadata": {},
   "outputs": [
    {
     "name": "stderr",
     "output_type": "stream",
     "text": [
      "/home/olan_healy/anaconda3/lib/python3.11/site-packages/huggingface_hub/file_download.py:797: FutureWarning: `resume_download` is deprecated and will be removed in version 1.0.0. Downloads always resume when possible. If you want to force a new download, use `force_download=True`.\n",
      "  warnings.warn(\n"
     ]
    }
   ],
   "source": [
    "model_name = \"microsoft/codebert-base\"\n",
    "tokenizer = RobertaTokenizerFast.from_pretrained(model_name)\n",
    "\n",
    "special_tokens = {\n",
    "    \"additional_special_tokens\": [\"[CONTEXT]\", \"[SNIPPET]\", \"[COMMIT]\", \"[PARENT]\"]\n",
    "}\n",
    "tokenizer.add_special_tokens(special_tokens)\n",
    "\n",
    "def preprocess(example):\n",
    "    return tokenizer(example[\"text\"], truncation=True, padding=False)\n",
    "\n",
    "tokenised_dataset = dataset.map(preprocess, batched=True)\n"
   ]
  },
  {
   "cell_type": "code",
   "execution_count": null,
   "metadata": {},
   "outputs": [
    {
     "name": "stderr",
     "output_type": "stream",
     "text": [
      "/home/olan_healy/anaconda3/lib/python3.11/site-packages/transformers/modeling_utils.py:446: FutureWarning: You are using `torch.load` with `weights_only=False` (the current default value), which uses the default pickle module implicitly. It is possible to construct malicious pickle data which will execute arbitrary code during unpickling (See https://github.com/pytorch/pytorch/blob/main/SECURITY.md#untrusted-models for more details). In a future release, the default value for `weights_only` will be flipped to `True`. This limits the functions that could be executed during unpickling. Arbitrary objects will no longer be allowed to be loaded via this mode unless they are explicitly allowlisted by the user via `torch.serialization.add_safe_globals`. We recommend you start setting `weights_only=True` for any use case where you don't have full control of the loaded file. Please open an issue on GitHub for any issues related to this experimental feature.\n",
      "  return torch.load(checkpoint_file, map_location=\"cpu\")\n"
     ]
    }
   ],
   "source": [
    "class CustomRobertaClassifier(PreTrainedModel):\n",
    "    def __init__(self, config):\n",
    "        super().__init__(config)\n",
    "        self.roberta = RobertaModel.from_pretrained(model_name)\n",
    "        self.roberta.resize_token_embeddings(len(tokenizer))\n",
    "        \n",
    "\n",
    "        for name, param in self.roberta.named_parameters():\n",
    "            if \"embeddings\" in name:\n",
    "                param.requires_grad = True\n",
    "            else:\n",
    "                param.requires_grad = False # freexe everying but embeddings\n",
    "\n",
    "        self.classifier = nn.Sequential(\n",
    "            nn.Linear(config.hidden_size, 512),\n",
    "            nn.ReLU(),\n",
    "            nn.Dropout(0.2),\n",
    "            nn.Linear(512, config.num_labels)\n",
    "        )\n",
    "\n",
    "    def forward(self, input_ids=None, attention_mask=None, labels=None):\n",
    "        outputs = self.roberta(input_ids=input_ids, attention_mask=attention_mask)\n",
    "        pooled_output = outputs.pooler_output\n",
    "        logits = self.classifier(pooled_output)\n",
    "\n",
    "        loss = None\n",
    "        if labels is not None:\n",
    "            loss_fn = nn.CrossEntropyLoss()\n",
    "            loss = loss_fn(logits, labels)\n",
    "\n",
    "        return SequenceClassifierOutput(\n",
    "            loss=loss,\n",
    "            logits=logits,\n",
    "            hidden_states=outputs.hidden_states,\n",
    "            attentions=outputs.attentions,\n",
    "        )\n",
    "model = CustomRobertaClassifier(RobertaConfig.from_pretrained(model_name, num_labels=2)).to(device)\n"
   ]
  },
  {
   "cell_type": "code",
   "execution_count": null,
   "metadata": {},
   "outputs": [],
   "source": [
    "class MultiEvalTrainer(Trainer):\n",
    "    def __init__(self, *args, eval_datasets=None, **kwargs):\n",
    "        if eval_datasets and len(eval_datasets) > 0:\n",
    "            kwargs[\"eval_dataset\"] = eval_datasets[0]\n",
    "        super().__init__(*args, **kwargs)\n",
    "        self.eval_datasets = eval_datasets or []\n",
    "\n",
    "    def _compute_metrics_with_prefix(self, pred, prefix):\n",
    "        labels = pred.label_ids\n",
    "        preds = pred.predictions.argmax(-1)\n",
    "        precision, recall, f1, _ = precision_recall_fscore_support(labels, preds, average='binary')\n",
    "        acc = accuracy_score(labels, preds)\n",
    "        return {\n",
    "            f\"{prefix}_accuracy\": acc,\n",
    "            f\"{prefix}_precision\": precision,\n",
    "            f\"{prefix}_recall\": recall,\n",
    "            f\"{prefix}_f1\": f1,\n",
    "        }\n",
    "\n",
    "    def evaluate(self, eval_dataset=None, ignore_keys=None, metric_key_prefix=\"eval\"):\n",
    "        if eval_dataset is None and self.eval_datasets:\n",
    "            results = {}\n",
    "            for i, eval_ds in enumerate(self.eval_datasets):\n",
    "                prefix = f\"{metric_key_prefix}_dataset_{i + 1}\"\n",
    "                logger.info(f\" Evaluating dataset {i + 1} with prefix '{prefix}'...\")\n",
    "                eval_output = self.predict(eval_ds, ignore_keys=ignore_keys)\n",
    "                metrics = self._compute_metrics_with_prefix(eval_output, prefix)\n",
    "                self.log(metrics)\n",
    "                results.update(metrics)\n",
    "            return results\n",
    "        return super().evaluate(eval_dataset, ignore_keys, metric_key_prefix)\n"
   ]
  },
  {
   "cell_type": "code",
   "execution_count": null,
   "metadata": {},
   "outputs": [],
   "source": [
    "output_dir = \"../../FINAL_MODEL_UNFREEZE_EMBEDDINGS\"\n",
    "log_dir = f\"{output_dir}/logs\"\n",
    "\n",
    "\n",
    "tokenised_dataset[\"train_val\"] = tokenised_dataset[\"train\"].shuffle(seed=42).select(range(min(500, len(tokenised_dataset[\"train\"]))))\n",
    "tokenised_dataset[\"validation\"] = tokenised_dataset[\"validation\"].shuffle(seed=42).select(range(min(500, len(tokenised_dataset[\"validation\"]))))\n",
    "\n",
    "training_args = TrainingArguments(\n",
    "    output_dir=output_dir,\n",
    "    logging_dir=log_dir,\n",
    "    report_to=\"tensorboard\",               \n",
    "    learning_rate=2e-5,\n",
    "    per_device_train_batch_size=8,\n",
    "    per_device_eval_batch_size=16,\n",
    "    num_train_epochs=50,\n",
    "    weight_decay=0.01,\n",
    "    evaluation_strategy=\"steps\",\n",
    "    eval_steps=500,\n",
    "    logging_strategy=\"steps\",\n",
    "    logging_steps=500,\n",
    "    save_strategy=\"steps\",\n",
    "    save_steps=500,\n",
    "    save_total_limit=2,\n",
    "    load_best_model_at_end=True,\n",
    "    metric_for_best_model=\"eval_dataset_1_f1\",\n",
    "    greater_is_better=True,\n",
    ")\n",
    "\n",
    "trainer = MultiEvalTrainer(\n",
    "    model=model,\n",
    "    args=training_args,\n",
    "    train_dataset=tokenised_dataset[\"train\"],\n",
    "    eval_datasets=[tokenised_dataset[\"train_val\"], tokenised_dataset[\"validation\"]],\n",
    "    tokenizer=tokenizer,\n",
    "    data_collator=DataCollatorWithPadding(tokenizer),\n",
    ")"
   ]
  },
  {
   "cell_type": "code",
   "execution_count": null,
   "metadata": {},
   "outputs": [
    {
     "name": "stderr",
     "output_type": "stream",
     "text": [
      "2025-03-25 21:01:51,038 - INFO - Training started...\n",
      "/home/olan_healy/anaconda3/lib/python3.11/site-packages/transformers/optimization.py:407: FutureWarning: This implementation of AdamW is deprecated and will be removed in a future version. Use the PyTorch implementation torch.optim.AdamW instead, or set `no_deprecation_warning=True` to disable this warning\n",
      "  warnings.warn(\n",
      "You're using a RobertaTokenizerFast tokenizer. Please note that with a fast tokenizer, using the `__call__` method is faster than using a method to encode the text followed by a call to the `pad` method to get a padded encoding.\n",
      "/home/olan_healy/anaconda3/lib/python3.11/site-packages/torch/nn/parallel/_functions.py:71: UserWarning: Was asked to gather along dimension 0, but all input tensors were scalars; will instead unsqueeze and return a vector.\n",
      "  warnings.warn(\n"
     ]
    },
    {
     "data": {
      "text/html": [
       "\n",
       "    <div>\n",
       "      \n",
       "      <progress value='1064' max='253250' style='width:300px; height:20px; vertical-align: middle;'></progress>\n",
       "      [  1064/253250 02:10 < 8:36:06, 8.14 it/s, Epoch 0.21/50]\n",
       "    </div>\n",
       "    <table border=\"1\" class=\"dataframe\">\n",
       "  <thead>\n",
       " <tr style=\"text-align: left;\">\n",
       "      <th>Step</th>\n",
       "      <th>Training Loss</th>\n",
       "      <th>Validation Loss</th>\n",
       "    </tr>\n",
       "  </thead>\n",
       "  <tbody>\n",
       "  </tbody>\n",
       "</table><p>\n",
       "    <div>\n",
       "      \n",
       "      <progress value='16' max='16' style='width:300px; height:20px; vertical-align: middle;'></progress>\n",
       "      [16/16 00:01]\n",
       "    </div>\n",
       "    "
      ],
      "text/plain": [
       "<IPython.core.display.HTML object>"
      ]
     },
     "metadata": {},
     "output_type": "display_data"
    },
    {
     "name": "stderr",
     "output_type": "stream",
     "text": [
      "2025-03-25 21:02:50,044 - INFO -  Evaluating dataset 1 with prefix 'eval_dataset_1'...\n",
      "2025-03-25 21:02:51,393 - INFO -  Evaluating dataset 2 with prefix 'eval_dataset_2'...\n",
      "/home/olan_healy/anaconda3/lib/python3.11/site-packages/torch/nn/parallel/_functions.py:71: UserWarning: Was asked to gather along dimension 0, but all input tensors were scalars; will instead unsqueeze and return a vector.\n",
      "  warnings.warn(\n",
      "/home/olan_healy/anaconda3/lib/python3.11/site-packages/torch/nn/parallel/_functions.py:71: UserWarning: Was asked to gather along dimension 0, but all input tensors were scalars; will instead unsqueeze and return a vector.\n",
      "  warnings.warn(\n",
      "2025-03-25 21:03:51,794 - INFO -  Evaluating dataset 1 with prefix 'eval_dataset_1'...\n",
      "2025-03-25 21:03:53,112 - INFO -  Evaluating dataset 2 with prefix 'eval_dataset_2'...\n",
      "/home/olan_healy/anaconda3/lib/python3.11/site-packages/torch/nn/parallel/_functions.py:71: UserWarning: Was asked to gather along dimension 0, but all input tensors were scalars; will instead unsqueeze and return a vector.\n",
      "  warnings.warn(\n",
      "/home/olan_healy/anaconda3/lib/python3.11/site-packages/torch/nn/parallel/_functions.py:71: UserWarning: Was asked to gather along dimension 0, but all input tensors were scalars; will instead unsqueeze and return a vector.\n",
      "  warnings.warn(\n"
     ]
    }
   ],
   "source": [
    "try:\n",
    "    logger.info(\"Training started...\")\n",
    "    trainer.train()\n",
    "finally:\n",
    "    log_path = f\"{output_dir}/final_log.csv\"\n",
    "    pd.DataFrame(trainer.state.log_history).to_csv(log_path, index=False)\n",
    "    logger.info(f\" Logs saved to {log_path}\")\n"
   ]
  },
  {
   "cell_type": "code",
   "execution_count": null,
   "metadata": {},
   "outputs": [
    {
     "name": "stdout",
     "output_type": "stream",
     "text": [
      "Available logged metrics:\n",
      " ['loss', 'learning_rate', 'epoch', 'step', 'eval_dataset_1_accuracy', 'eval_dataset_1_precision', 'eval_dataset_1_recall', 'eval_dataset_1_f1', 'eval_dataset_2_accuracy', 'eval_dataset_2_precision', 'eval_dataset_2_recall', 'eval_dataset_2_f1']\n"
     ]
    }
   ],
   "source": [
    "log_path = f\"{output_dir}/final_log.csv\"\n",
    "log_df = pd.read_csv(log_path)\n",
    "\n",
    "log_df = log_df[log_df[\"step\"].notna()]\n",
    "\n",
    "\n",
    "log_df[\"step\"] = log_df[\"step\"].astype(int)\n",
    "\n",
    "print(\"Available logged metrics:\\n\", list(log_df.columns))"
   ]
  },
  {
   "cell_type": "code",
   "execution_count": null,
   "metadata": {},
   "outputs": [],
   "source": [
    "import pandas as pd\n",
    "df = pd.read_csv(\"../../FINAL_MODEL_UNFREEZE_EMBEDDINGS/final_log.csv\")\n",
    "print(df.columns)"
   ]
  },
  {
   "cell_type": "code",
   "execution_count": null,
   "metadata": {},
   "outputs": [
    {
     "name": "stderr",
     "output_type": "stream",
     "text": [
      "2025-03-25 20:45:13,347 - INFO - 🔍 Running evaluation manually after training...\n",
      "2025-03-25 20:45:13,351 - INFO -  Evaluating dataset 1 with prefix 'eval_dataset_1'...\n",
      "/home/olan_healy/anaconda3/lib/python3.11/site-packages/torch/nn/parallel/_functions.py:71: UserWarning: Was asked to gather along dimension 0, but all input tensors were scalars; will instead unsqueeze and return a vector.\n",
      "  warnings.warn(\n",
      "2025-03-25 20:45:15,603 - INFO -  Evaluating dataset 2 with prefix 'eval_dataset_2'...\n",
      "/home/olan_healy/anaconda3/lib/python3.11/site-packages/torch/nn/parallel/_functions.py:71: UserWarning: Was asked to gather along dimension 0, but all input tensors were scalars; will instead unsqueeze and return a vector.\n",
      "  warnings.warn(\n"
     ]
    },
    {
     "name": "stdout",
     "output_type": "stream",
     "text": [
      "{'eval_dataset_1_accuracy': 0.598, 'eval_dataset_1_precision': 0.5584112149532711, 'eval_dataset_1_recall': 0.952191235059761, 'eval_dataset_1_f1': 0.7039764359351988, 'epoch': 0.13, 'eval_dataset_2_accuracy': 0.536, 'eval_dataset_2_precision': 0.5151515151515151, 'eval_dataset_2_recall': 0.9020408163265307, 'eval_dataset_2_f1': 0.655786350148368}\n"
     ]
    }
   ],
   "source": [
    "logger.info(\"Running evaluation manually after training...\")\n",
    "metrics = trainer.evaluate()\n",
    "print(metrics)"
   ]
  }
 ],
 "metadata": {
  "kernelspec": {
   "display_name": "base",
   "language": "python",
   "name": "python3"
  },
  "language_info": {
   "codemirror_mode": {
    "name": "ipython",
    "version": 3
   },
   "file_extension": ".py",
   "mimetype": "text/x-python",
   "name": "python",
   "nbconvert_exporter": "python",
   "pygments_lexer": "ipython3",
   "version": "3.11.4"
  }
 },
 "nbformat": 4,
 "nbformat_minor": 2
}
